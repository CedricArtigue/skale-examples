{
 "cells": [
  {
   "cell_type": "markdown",
   "metadata": {},
   "source": [
    "# Predicting adult income with Skale"
   ]
  },
  {
   "cell_type": "markdown",
   "metadata": {},
   "source": [
    "This notebook demonstrates how to use Skale to predict if an adult identified with a set of parameters \n",
    "(education, gender, marital status, etc.) is earning more or less than 50K a year. \n",
    "\n",
    "For this we will use the Adult Data Set MLR file which contains income data for about 32000 people. \n",
    "We will train a logistic regression model out of it with the following steps:\n",
    "- Run an ETL operation on raw data to obtain label and features from it\n",
    "- Build a machine learning model using the refined data (a logistic regression)\n",
    "- Evaluate the performance of our model using cross-validation technique"
   ]
  },
  {
   "cell_type": "code",
   "execution_count": 1,
   "metadata": {
    "collapsed": false
   },
   "outputs": [
    {
     "data": {
      "text/plain": [
       "undefined"
      ]
     },
     "execution_count": 1,
     "metadata": {},
     "output_type": "execute_result"
    }
   ],
   "source": [
    "var co = require('co');\n",
    "var sc = require('skale-engine').context();\n",
    "var Plot = require('plotly-notebook-js');\n",
    "\n",
    "var CSVDataFrame = require('./CSVDataFrame.js');\n",
    "var StandardScaler = require('skale-ml').StandardScaler;\n",
    "var LogisticRegressionWithSGD = require('skale-ml').LogisticRegressionWithSGD;\n",
    "var BinaryClassificationMetrics = require('skale-ml').BinaryClassificationMetrics;"
   ]
  },
  {
   "cell_type": "markdown",
   "metadata": {},
   "source": [
    "# Loading the CSV file"
   ]
  },
  {
   "cell_type": "markdown",
   "metadata": {},
   "source": [
    "Our data is stored in a csv file named 'adult.data', let's load it and show the first five rows."
   ]
  },
  {
   "cell_type": "code",
   "execution_count": 2,
   "metadata": {
    "collapsed": false
   },
   "outputs": [
    {
     "data": {
      "text/html": [
       "<style>table#t01 {width: 100%; background-color: #f1f1c1;}\n",
       "table#t01 tr:nth-child(even) {background-color: #f2f2f3;}\n",
       "table#t01 tr:nth-child(odd) {background-color: #fff;}\n",
       "table#t01 th {color: white;background-color: #44496e;}\n",
       "</style><table id=\"t01\"><tr><th>Age</th><th>Workclass</th><th>fnlwgt</th><th>Education</th><th>Education-Num</th><th>Marital-Status</th><th>Occupation</th><th>Relationship</th><th>Race</th><th>Sex</th><th>Capital-Gain</th><th>Capital-Loss</th><th>Hours-per-week</th><th>Country</th><th>Target</th></tr><tr><td>39</td><td>State-gov</td><td>77516</td><td>Bachelors</td><td>13</td><td>Never-married</td><td>Adm-clerical</td><td>Not-in-family</td><td>White</td><td>Male</td><td>2174</td><td>0</td><td>40</td><td>United-States</td><td><=50K</td></tr><tr><td>50</td><td>Self-emp-not-inc</td><td>83311</td><td>Bachelors</td><td>13</td><td>Married-civ-spouse</td><td>Exec-managerial</td><td>Husband</td><td>White</td><td>Male</td><td>0</td><td>0</td><td>13</td><td>United-States</td><td><=50K</td></tr><tr><td>38</td><td>Private</td><td>215646</td><td>HS-grad</td><td>9</td><td>Divorced</td><td>Handlers-cleaners</td><td>Not-in-family</td><td>White</td><td>Male</td><td>0</td><td>0</td><td>40</td><td>United-States</td><td><=50K</td></tr><tr><td>53</td><td>Private</td><td>234721</td><td>11th</td><td>7</td><td>Married-civ-spouse</td><td>Handlers-cleaners</td><td>Husband</td><td>Black</td><td>Male</td><td>0</td><td>0</td><td>40</td><td>United-States</td><td><=50K</td></tr><tr><td>28</td><td>Private</td><td>338409</td><td>Bachelors</td><td>13</td><td>Married-civ-spouse</td><td>Prof-specialty</td><td>Wife</td><td>Black</td><td>Female</td><td>0</td><td>0</td><td>40</td><td>Cuba</td><td><=50K</td></tr></table>"
      ]
     },
     "execution_count": 2,
     "metadata": {},
     "output_type": "execute_result"
    }
   ],
   "source": [
    "var columns = [\n",
    "    \"Age\", \"Workclass\", \"fnlwgt\", \"Education\", \"Education-Num\", \"Marital-Status\",\n",
    "    \"Occupation\", \"Relationship\", \"Race\", \"Sex\", \"Capital-Gain\", \"Capital-Loss\",\n",
    "    \"Hours-per-week\", \"Country\", \"Target\"\n",
    "];\n",
    "var df = new CSVDataFrame(sc, columns, 'adult.data', ',', '?');\n",
    "$$async$$ = df.printHTML(5, function(err, res) {$$done$$($$html$$ = res);});"
   ]
  },
  {
   "cell_type": "markdown",
   "metadata": {},
   "source": [
    "# Plotting Age distribution"
   ]
  },
  {
   "cell_type": "code",
   "execution_count": 3,
   "metadata": {
    "collapsed": false
   },
   "outputs": [
    {
     "data": {
      "text/html": [
       "<div class='plotly-plot'><div id='notebook-plot-1462890444860'></div><script>function plot(){Plotly.plot('notebook-plot-1462890444860',[{\"x\":[17,18,19,20,21,22,23,24,25,26,27,28,29,30,31,32,33,34,35,36,37,38,39,40,41,42,43,44,45,46,47,48,49,50,51,52,53,54,55,56,57,58,59,60,61,62,63,64,65,66,67,68,69,70,71,72,73,74,75,76,77,78,79,80,81,82,83,84,85,86,88,90],\"y\":[328,447,594,629,621,674,824,752,799,745,789,808,774,813,851,789,837,836,828,852,828,791,786,765,769,741,743,704,706,711,683,523,555,575,571,455,448,394,386,343,337,344,332,276,259,213,186,173,136,110,111,90,80,64,54,40,49,38,34,29,20,14,15,16,13,7,5,8,3,1,3,35],\"type\":\"bar\",\"name\":\"Age\"}],{\"title\":\"Age distribution\"});}if(window.Plotly){plot();}else if(!window.require){var head = document.head || document.getElementsByTagName('head')[0];var s = document.createElement('script');s.src = 'https://cdn.plot.ly/plotly-latest.min.js';s.type = 'text/javascript';s.async = false;s.onreadystatechange = s.onload = plot;head.appendChild(s);}else{require(['/notebooks/node_modules/plotly-notebook-js/build/plotly.min.js'], function(Plotly){window.Plotly = Plotly;plot();});}</script></div>"
      ]
     },
     "execution_count": 3,
     "metadata": {},
     "output_type": "execute_result"
    }
   ],
   "source": [
    "$$async$$ = df.plotDistribution(\"Age\", function(err, res) {$$done$$($$html$$ = res);});"
   ]
  },
  {
   "cell_type": "markdown",
   "metadata": {},
   "source": [
    "# Plotting Workclass distribution"
   ]
  },
  {
   "cell_type": "code",
   "execution_count": 4,
   "metadata": {
    "collapsed": false
   },
   "outputs": [
    {
     "data": {
      "text/html": [
       "<div class='plotly-plot'><div id='notebook-plot-1462890447028'></div><script>function plot(){Plotly.plot('notebook-plot-1462890447028',[{\"x\":[0,1,2,3,4,5,6],\"y\":[22286,2499,2067,1279,1074,943,14],\"type\":\"bar\",\"name\":\"Workclass\",\"tickmode\":\"array\"}],{\"autotick\":false,\"title\":\"Workclass distribution\",\"xaxis\":{\"tickvals\":[0,1,2,3,4,5,6],\"ticktext\":[\"Private\",\"Self-emp-not-inc\",\"Local-gov\",\"State-gov\",\"Self-emp-inc\",\"Federal-gov\",\"Without-pay\"]}});}if(window.Plotly){plot();}else if(!window.require){var head = document.head || document.getElementsByTagName('head')[0];var s = document.createElement('script');s.src = 'https://cdn.plot.ly/plotly-latest.min.js';s.type = 'text/javascript';s.async = false;s.onreadystatechange = s.onload = plot;head.appendChild(s);}else{require(['/notebooks/node_modules/plotly-notebook-js/build/plotly.min.js'], function(Plotly){window.Plotly = Plotly;plot();});}</script></div>"
      ]
     },
     "execution_count": 4,
     "metadata": {},
     "output_type": "execute_result"
    }
   ],
   "source": [
    "$$async$$ = df.plotDistribution(\"Workclass\", function(err, res) {$$done$$($$html$$ = res);});"
   ]
  },
  {
   "cell_type": "markdown",
   "metadata": {},
   "source": [
    "# Encoding the categorical features"
   ]
  },
  {
   "cell_type": "code",
   "execution_count": 5,
   "metadata": {
    "collapsed": false
   },
   "outputs": [
    {
     "data": {
      "text/html": [
       "<style>table#t01 {width: 100%; background-color: #f1f1c1;}\n",
       "table#t01 tr:nth-child(even) {background-color: #f2f2f3;}\n",
       "table#t01 tr:nth-child(odd) {background-color: #fff;}\n",
       "table#t01 th {color: white;background-color: #44496e;}\n",
       "</style><table id=\"t01\"><tr><th>Age</th><th>Workclass</th><th>fnlwgt</th><th>Education</th><th>Education-Num</th><th>Marital-Status</th><th>Occupation</th><th>Relationship</th><th>Race</th><th>Sex</th><th>Capital-Gain</th><th>Capital-Loss</th><th>Hours-per-week</th><th>Country</th><th>Target</th></tr><tr><td>39</td><td>0</td><td>77516</td><td>0</td><td>13</td><td>0</td><td>0</td><td>0</td><td>0</td><td>0</td><td>2174</td><td>0</td><td>40</td><td>0</td><td>0</td></tr><tr><td>50</td><td>1</td><td>83311</td><td>0</td><td>13</td><td>1</td><td>1</td><td>1</td><td>0</td><td>0</td><td>0</td><td>0</td><td>13</td><td>0</td><td>0</td></tr><tr><td>38</td><td>2</td><td>215646</td><td>1</td><td>9</td><td>2</td><td>2</td><td>0</td><td>0</td><td>0</td><td>0</td><td>0</td><td>40</td><td>0</td><td>0</td></tr><tr><td>53</td><td>2</td><td>234721</td><td>2</td><td>7</td><td>1</td><td>2</td><td>1</td><td>1</td><td>0</td><td>0</td><td>0</td><td>40</td><td>0</td><td>0</td></tr><tr><td>28</td><td>2</td><td>338409</td><td>0</td><td>13</td><td>1</td><td>3</td><td>2</td><td>1</td><td>1</td><td>0</td><td>0</td><td>40</td><td>1</td><td>0</td></tr><tr><td>37</td><td>2</td><td>284582</td><td>3</td><td>14</td><td>1</td><td>1</td><td>2</td><td>0</td><td>1</td><td>0</td><td>0</td><td>40</td><td>0</td><td>0</td></tr><tr><td>49</td><td>2</td><td>160187</td><td>4</td><td>5</td><td>3</td><td>4</td><td>0</td><td>1</td><td>1</td><td>0</td><td>0</td><td>16</td><td>2</td><td>0</td></tr><tr><td>52</td><td>1</td><td>209642</td><td>1</td><td>9</td><td>1</td><td>1</td><td>1</td><td>0</td><td>0</td><td>0</td><td>0</td><td>45</td><td>0</td><td>1</td></tr><tr><td>31</td><td>2</td><td>45781</td><td>3</td><td>14</td><td>0</td><td>3</td><td>0</td><td>0</td><td>1</td><td>14084</td><td>0</td><td>50</td><td>0</td><td>1</td></tr><tr><td>42</td><td>2</td><td>159449</td><td>0</td><td>13</td><td>1</td><td>1</td><td>1</td><td>0</td><td>0</td><td>5178</td><td>0</td><td>40</td><td>0</td><td>1</td></tr></table>"
      ]
     },
     "execution_count": 5,
     "metadata": {},
     "output_type": "execute_result"
    }
   ],
   "source": [
    "var edf = df.number_encode_features()\n",
    "$$async$$ = edf.printHTML(10, function(err, res) {$$done$$($$html$$ = res);});"
   ]
  },
  {
   "cell_type": "markdown",
   "metadata": {},
   "source": [
    "# Correlation between Education and Education-Num"
   ]
  },
  {
   "cell_type": "code",
   "execution_count": 6,
   "metadata": {
    "collapsed": false
   },
   "outputs": [
    {
     "data": {
      "text/html": [
       "<style>table#t01 {width: 100%; background-color: #f1f1c1;}\n",
       "table#t01 tr:nth-child(even) {background-color: #f2f2f3;}\n",
       "table#t01 tr:nth-child(odd) {background-color: #fff;}\n",
       "table#t01 th {color: white;background-color: #44496e;}\n",
       "</style><table id=\"t01\"><tr><th>Education</th><th>Education-Num</th></tr><tr><td>Bachelors</td><td>13</td></tr><tr><td>Bachelors</td><td>13</td></tr><tr><td>HS-grad</td><td>9</td></tr><tr><td>11th</td><td>7</td></tr><tr><td>Bachelors</td><td>13</td></tr></table>"
      ]
     },
     "execution_count": 6,
     "metadata": {},
     "output_type": "execute_result"
    }
   ],
   "source": [
    "$$async$$ = df.select([\"Education\", \"Education-Num\"]).printHTML(5, function(err, res) {$$done$$($$html$$ = res);});"
   ]
  },
  {
   "cell_type": "markdown",
   "metadata": {},
   "source": [
    "# Delete Education column"
   ]
  },
  {
   "cell_type": "code",
   "execution_count": 7,
   "metadata": {
    "collapsed": false
   },
   "outputs": [
    {
     "data": {
      "text/html": [
       "<style>table#t01 {width: 100%; background-color: #f1f1c1;}\n",
       "table#t01 tr:nth-child(even) {background-color: #f2f2f3;}\n",
       "table#t01 tr:nth-child(odd) {background-color: #fff;}\n",
       "table#t01 th {color: white;background-color: #44496e;}\n",
       "</style><table id=\"t01\"><tr><th>Age</th><th>Workclass</th><th>fnlwgt</th><th>Education-Num</th><th>Marital-Status</th><th>Occupation</th><th>Relationship</th><th>Race</th><th>Sex</th><th>Capital-Gain</th><th>Capital-Loss</th><th>Hours-per-week</th><th>Country</th><th>Target</th></tr><tr><td>39</td><td>0</td><td>77516</td><td>13</td><td>0</td><td>0</td><td>0</td><td>0</td><td>0</td><td>2174</td><td>0</td><td>40</td><td>0</td><td>0</td></tr><tr><td>50</td><td>1</td><td>83311</td><td>13</td><td>1</td><td>1</td><td>1</td><td>0</td><td>0</td><td>0</td><td>0</td><td>13</td><td>0</td><td>0</td></tr><tr><td>38</td><td>2</td><td>215646</td><td>9</td><td>2</td><td>2</td><td>0</td><td>0</td><td>0</td><td>0</td><td>0</td><td>40</td><td>0</td><td>0</td></tr><tr><td>53</td><td>2</td><td>234721</td><td>7</td><td>1</td><td>2</td><td>1</td><td>1</td><td>0</td><td>0</td><td>0</td><td>40</td><td>0</td><td>0</td></tr><tr><td>28</td><td>2</td><td>338409</td><td>13</td><td>1</td><td>3</td><td>2</td><td>1</td><td>1</td><td>0</td><td>0</td><td>40</td><td>1</td><td>0</td></tr></table>"
      ]
     },
     "execution_count": 7,
     "metadata": {},
     "output_type": "execute_result"
    }
   ],
   "source": [
    "edf = edf.drop([\"Education\"]);\n",
    "$$async$$ = edf.printHTML(5, function(err, res) {$$done$$($$html$$ = res);});"
   ]
  },
  {
   "cell_type": "markdown",
   "metadata": {},
   "source": [
    "# Correlation between Sex and Relationship"
   ]
  },
  {
   "cell_type": "code",
   "execution_count": 8,
   "metadata": {
    "collapsed": false
   },
   "outputs": [
    {
     "data": {
      "text/html": [
       "<style>table#t01 {width: 100%; background-color: #f1f1c1;}\n",
       "table#t01 tr:nth-child(even) {background-color: #f2f2f3;}\n",
       "table#t01 tr:nth-child(odd) {background-color: #fff;}\n",
       "table#t01 th {color: white;background-color: #44496e;}\n",
       "</style><table id=\"t01\"><tr><th>Sex</th><th>Relationship</th></tr><tr><td>Male</td><td>Not-in-family</td></tr><tr><td>Male</td><td>Husband</td></tr><tr><td>Male</td><td>Not-in-family</td></tr><tr><td>Male</td><td>Husband</td></tr><tr><td>Female</td><td>Wife</td></tr></table>"
      ]
     },
     "execution_count": 8,
     "metadata": {},
     "output_type": "execute_result"
    }
   ],
   "source": [
    "$$async$$ = df.select([\"Sex\", \"Relationship\"]).printHTML(5, function(err, res) {$$done$$($$html$$ = res);});"
   ]
  },
  {
   "cell_type": "markdown",
   "metadata": {},
   "source": [
    "# Extract a LabeledPoint Dataset from our encoded Data Frame"
   ]
  },
  {
   "cell_type": "code",
   "execution_count": 9,
   "metadata": {
    "collapsed": false
   },
   "outputs": [
    {
     "data": {
      "text/plain": [
       "undefined"
      ]
     },
     "execution_count": 9,
     "metadata": {},
     "output_type": "execute_result"
    }
   ],
   "source": [
    "var training_set = edf.toLabeledPoint(\"Target\", [\"*\"]);"
   ]
  },
  {
   "cell_type": "markdown",
   "metadata": {},
   "source": [
    "# Scale features to zero-mean, unit variance"
   ]
  },
  {
   "cell_type": "code",
   "execution_count": 10,
   "metadata": {
    "collapsed": false
   },
   "outputs": [
    {
     "data": {
      "text/plain": [
       "undefined"
      ]
     },
     "execution_count": 10,
     "metadata": {},
     "output_type": "execute_result"
    }
   ],
   "source": [
    "var scaler = new StandardScaler();\n",
    "var training_set_std;\n",
    "$$async$$ = scaler.fit(training_set.map(p => p[1]), function() {\n",
    "    training_set_std = training_set.map((p, scaler) => [p[0], scaler.transform(p[1])], scaler).persist();\n",
    "    $$done$$();\n",
    "});"
   ]
  },
  {
   "cell_type": "markdown",
   "metadata": {},
   "source": [
    "# Train logistic regression with SGD on standardized training set"
   ]
  },
  {
   "cell_type": "code",
   "execution_count": 11,
   "metadata": {
    "collapsed": false
   },
   "outputs": [
    {
     "data": {
      "text/plain": [
       "null"
      ]
     },
     "execution_count": 11,
     "metadata": {},
     "output_type": "execute_result"
    }
   ],
   "source": [
    "var nIterations = 10;\n",
    "var parameters = {regParam: 0.01, stepSize: 1};\n",
    "var model = new LogisticRegressionWithSGD(training_set_std, parameters);\n",
    "\n",
    "$$async$$ = model.train(nIterations, $$done$$);"
   ]
  },
  {
   "cell_type": "markdown",
   "metadata": {},
   "source": [
    "# Cross validate on test set and generate ROC curve"
   ]
  },
  {
   "cell_type": "code",
   "execution_count": 14,
   "metadata": {
    "collapsed": false
   },
   "outputs": [
    {
     "data": {
      "text/plain": [
       "undefined"
      ]
     },
     "execution_count": 14,
     "metadata": {},
     "output_type": "execute_result"
    }
   ],
   "source": [
    "var vdf = new CSVDataFrame(sc, columns, 'adult.test', ',', '?');\n",
    "var evdf = vdf.drop([\"Education\"]).number_encode_features();\n",
    "var test_set_std = evdf\n",
    "    .toLabeledPoint(\"Target\", [\"*\"])\n",
    "    .map((p, scaler) => [p[0], scaler.transform(p[1])], scaler);\n",
    "\n",
    "var predictionAndLabels = test_set_std.map((p, model) => [model.predict(p[1]), p[0]], model);\n",
    "var metrics = new BinaryClassificationMetrics(predictionAndLabels);\n",
    "\n",
    "var roc;\n",
    "$$async$$ = metrics.roc(function(err, result) {\n",
    "    roc = result;\n",
    "    $$done$$();\n",
    "});"
   ]
  },
  {
   "cell_type": "code",
   "execution_count": 15,
   "metadata": {
    "collapsed": false
   },
   "outputs": [
    {
     "data": {
      "text/html": [
       "<div class='plotly-plot'><div id='notebook-plot-1462890516496'></div><script>function plot(){Plotly.plot('notebook-plot-1462890516496',[{\"x\":[\"1.00\",\"0.78\",\"0.59\",\"0.43\",\"0.31\",\"0.22\",\"0.15\",\"0.10\",\"0.05\",\"0.02\",0],\"y\":[\"1.00\",\"0.98\",\"0.94\",\"0.88\",\"0.80\",\"0.70\",\"0.59\",\"0.48\",\"0.34\",\"0.19\",0],\"type\":\"scatter\",\"name\":\"regParam = 0.01, stepSize = 1\"},{\"x\":[0,1],\"y\":[0,1],\"name\":\"Random\"}],{\"title\":\"Receiver Operating characteristic (ROC)\",\"xaxis\":{\"title\":\"False Positive Rate (Specifity)\"},\"yaxis\":{\"title\":\"True Positive Rate (Sensitivity)\"},\"autosize\":false,\"width\":800,\"height\":500});}if(window.Plotly){plot();}else if(!window.require){var head = document.head || document.getElementsByTagName('head')[0];var s = document.createElement('script');s.src = 'https://cdn.plot.ly/plotly-latest.min.js';s.type = 'text/javascript';s.async = false;s.onreadystatechange = s.onload = plot;head.appendChild(s);}else{require(['/notebooks/node_modules/plotly-notebook-js/build/plotly.min.js'], function(Plotly){window.Plotly = Plotly;plot();});}</script></div>"
      ]
     },
     "execution_count": 15,
     "metadata": {},
     "output_type": "execute_result"
    }
   ],
   "source": [
    "var series = [{\n",
    "        x: [], y: [],\n",
    "        type: 'scatter',\n",
    "        name: 'regParam = ' + parameters.regParam + ', stepSize = ' + parameters.stepSize\n",
    "    }, {x: [0, 1], y: [0, 1], name: 'Random'}];\n",
    "for (var i in roc) {\n",
    "    series[0].x.push(roc[i][1][0].toFixed(2));\n",
    "    series[0].y.push(roc[i][1][1].toFixed(2));\n",
    "}\n",
    "series[0].x.push(0);\n",
    "series[0].y.push(0);\n",
    "\n",
    "$$html$$ = Plot.createPlot(series, {\n",
    "    title: 'Receiver Operating characteristic (ROC)',\n",
    "    xaxis: {title: 'False Positive Rate (Specifity)'},\n",
    "    yaxis: {title: 'True Positive Rate (Sensitivity)'},\n",
    "    autosize: false,\n",
    "    width: 800,\n",
    "    height: 500   \n",
    "}).render();"
   ]
  }
 ],
 "metadata": {
  "kernelspec": {
   "display_name": "Javascript (Node.js)",
   "language": "javascript",
   "name": "javascript"
  },
  "language_info": {
   "file_extension": ".js",
   "mimetype": "application/javascript",
   "name": "javascript",
   "version": "4.1.2"
  }
 },
 "nbformat": 4,
 "nbformat_minor": 0
}
