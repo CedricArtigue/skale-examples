{
 "cells": [
  {
   "cell_type": "markdown",
   "metadata": {},
   "source": [
    "# Adult Income Dataset analysis with Skale "
   ]
  },
  {
   "cell_type": "markdown",
   "metadata": {},
   "source": [
    "This notebook demonstrates how use Skale to process the data set from Adult Data Set MLR which \n",
    "contains income data for about 32000 people. The ultimate goal is to see how well we can predict \n",
    "if a person will make more than $50K a year, given data like education, gender and martial status.\n",
    "\n",
    "To achieve this goal we will:\n",
    "- Run an ETL operation on raw data to obtain label and features from it\n",
    "- Build a machine learning model using the refined data (a logistic regression)\n",
    "- Evaluate the performance of our model using cross-validation technique"
   ]
  },
  {
   "cell_type": "markdown",
   "metadata": {},
   "source": [
    "We will need the following npm packages."
   ]
  },
  {
   "cell_type": "code",
   "execution_count": 1,
   "metadata": {
    "collapsed": false
   },
   "outputs": [
    {
     "data": {
      "text/plain": [
       "undefined"
      ]
     },
     "execution_count": 1,
     "metadata": {},
     "output_type": "execute_result"
    }
   ],
   "source": [
    "var sc = require('skale-engine').context();\n",
    "var co = require('co');\n",
    "var plot = require('plotter').plot;"
   ]
  },
  {
   "cell_type": "markdown",
   "metadata": {},
   "source": [
    "We will use the following machine learning capabilities."
   ]
  },
  {
   "cell_type": "code",
   "execution_count": 2,
   "metadata": {
    "collapsed": false
   },
   "outputs": [
    {
     "data": {
      "text/plain": [
       "undefined"
      ]
     },
     "execution_count": 2,
     "metadata": {},
     "output_type": "execute_result"
    }
   ],
   "source": [
    "var StandardScaler = require('skale-ml').StandardScaler;\n",
    "var LogisticRegressionWithSGD = require('skale-ml').LogisticRegressionWithSGD;\n",
    "var BinaryClassificationMetrics = require('skale-ml').BinaryClassificationMetrics;"
   ]
  },
  {
   "cell_type": "markdown",
   "metadata": {},
   "source": [
    "## Loading the data "
   ]
  },
  {
   "cell_type": "code",
   "execution_count": 3,
   "metadata": {
    "collapsed": false
   },
   "outputs": [
    {
     "data": {
      "text/plain": [
       "undefined"
      ]
     },
     "execution_count": 3,
     "metadata": {},
     "output_type": "execute_result"
    }
   ],
   "source": [
    "var metadata = {\n",
    "    workclass: ['Private', 'Self-emp-not-inc', 'Self-emp-inc', 'Federal-gov', 'Local-gov', 'State-gov', 'Without-pay', 'Never-worked'],\n",
    "    education: ['Bachelors', 'Some-college', '11th', 'HS-grad', 'Prof-school', 'Assoc-acdm', 'Assoc-voc', '9th', '7th-8th', '12th', 'Masters', '1st-4th', '10th', 'Doctorate', '5th-6th', 'Preschool'],\n",
    "    maritalstatus: ['Married-civ-spouse', 'Divorced', 'Never-married', 'Separated', 'Widowed', 'Married-spouse-absent', 'Married-AF-spouse'],\n",
    "    occupation: ['Tech-support', 'Craft-repair', 'Other-service', 'Sales', 'Exec-managerial', 'Prof-specialty', 'Handlers-cleaners', 'Machine-op-inspct', 'Adm-clerical', 'Farming-fishing', 'Transport-moving', 'Priv-house-serv', 'Protective-serv', 'Armed-Forces'],\n",
    "    relationship: ['Wife', 'Own-child', 'Husband', 'Not-in-family', 'Other-relative', 'Unmarried'],\n",
    "    race: ['White', 'Asian-Pac-Islander', 'Amer-Indian-Eskimo', 'Other', 'Black'],\n",
    "    sex: ['Female', 'Male'],\n",
    "    nativecountry: ['United-States', 'Cambodia', 'England', 'Puerto-Rico', 'Canada', 'Germany', 'Outlying-US(Guam-USVI-etc)', 'India', 'Japan', 'Greece', 'South', 'China', 'Cuba', 'Iran', 'Honduras', 'Philippines', 'Italy', 'Poland', 'Jamaica', 'Vietnam', 'Mexico', 'Portugal', 'Ireland', 'France', 'Dominican-Republic', 'Laos', 'Ecuador', 'Taiwan', 'Haiti', 'Columbia', 'Hungary', 'Guatemala', 'Nicaragua', 'Scotland', 'Thailand', 'Yugoslavia', 'El-Salvador', 'Trinadad&Tobago', 'Peru', 'Hong', 'Holand-Netherlands']\n",
    "}"
   ]
  },
  {
   "cell_type": "code",
   "execution_count": 4,
   "metadata": {
    "collapsed": false
   },
   "outputs": [
    {
     "data": {
      "text/plain": [
       "undefined"
      ]
     },
     "execution_count": 4,
     "metadata": {},
     "output_type": "execute_result"
    }
   ],
   "source": [
    "function featurize(data, metadata) {\n",
    "    var label = ((data[14] == '>50K') || (data[14] == '>50K.')) ? 1 : -1;\n",
    "    var features = [\n",
    "        Number(data[0]),// 1 age\n",
    "        metadata.workclass.indexOf(data[1]),// 2 workclass\n",
    "        Number(data[2]),// 3 fnlwgt\n",
    "        // metadata.education.indexOf(data[3]),// education (redundant with education-num)\n",
    "        Number(data[4]),// 4 education-num\n",
    "        metadata.maritalstatus.indexOf(data[5]),// 5 marital-status\n",
    "        metadata.occupation.indexOf(data[6]),// 6 occupation\t\n",
    "        metadata.relationship.indexOf(data[7]),// 7 relationship\t\n",
    "        metadata.race.indexOf(data[8]),// 8 race\n",
    "        metadata.sex.indexOf(data[9]),// 9 sex\t\n",
    "        Number(data[10]),// 10 capital-gain\n",
    "        Number(data[11]),// 11 capital-loss\n",
    "        Number(data[12]),// 12 hours-per-week\n",
    "        metadata.nativecountry.indexOf(data[13])// 13 native-country\n",
    "    ];\n",
    "    return [label, features];\n",
    "}"
   ]
  },
  {
   "cell_type": "code",
   "execution_count": 5,
   "metadata": {
    "collapsed": false
   },
   "outputs": [
    {
     "data": {
      "text/plain": [
       "undefined"
      ]
     },
     "execution_count": 5,
     "metadata": {},
     "output_type": "execute_result"
    }
   ],
   "source": [
    "var training_set = sc.textFile('adult.data')\n",
    "    .map(line => line.split(',').map(str => str.trim()))// split csv lines\n",
    "    .filter(data => data.indexOf('?') == -1)// remove incomplete data\n",
    "    .map(featurize, metadata)// transform string data to number\n",
    "    .persist();\n",
    "\n",
    "var test_set = sc.textFile('adult.test')\n",
    "    .map(line => line.split(',').map(str => str.trim()))// split csv lines\n",
    "    .filter(data => data.indexOf('?') == -1)// remove incomplete data\n",
    "    .map(featurize, metadata);// transform string data to number"
   ]
  },
  {
   "cell_type": "code",
   "execution_count": 6,
   "metadata": {
    "collapsed": false
   },
   "outputs": [
    {
     "data": {
      "text/plain": [
       "Promise { <pending> }"
      ]
     },
     "execution_count": 6,
     "metadata": {},
     "output_type": "execute_result"
    },
    {
     "name": "stdout",
     "output_type": "stream",
     "text": [
      "\n",
      "# Receiver Operating characteristic (ROC)\n",
      "\n",
      "Threshold\tSpecificity(FPR)\tSensitivity(TPR)\n",
      "0.00\t1.00\t1.00\n",
      "0.10\t0.78\t1.00\n",
      "0.20\t0.63\t0.98\n",
      "0.30\t0.52\t0.97\n",
      "0.40\t0.44\t0.96\n",
      "0.50\t0.37\t0.93\n",
      "0.60\t0.29\t0.89\n",
      "0.70\t0.22\t0.80\n",
      "0.80\t0.13\t0.66\n",
      "0.90\t0.06\t0.44\n",
      "stdout: \n",
      "stderr: \n"
     ]
    }
   ],
   "source": [
    "// Wrap asynchronous code in co to limit callback imbrications (ES7 async/await will fix this !)\n",
    "co(function* () {\n",
    "    // Standardize features to zero mean and unit variance\n",
    "    var scaler = new StandardScaler();\n",
    "\n",
    "    yield scaler.fit(training_set.map(point => point[1]));\n",
    "\n",
    "    // Use scaler to standardize training and test datasets\n",
    "    var training_set_std = training_set\n",
    "        .map((p, args) => [p[0], args.scaler.transform(p[1])], {scaler: scaler})\n",
    "        .persist();\n",
    "\n",
    "    var test_set_std = test_set\n",
    "        .map((p, args) => [p[0], args.scaler.transform(p[1])], {scaler: scaler});\n",
    "\n",
    "    // Train logistic regression with SGD on standardized training set\n",
    "    var nIterations = 10;\n",
    "    var parameters = {regParam: 0.01, stepSize: 1};\n",
    "    var model = new LogisticRegressionWithSGD(training_set_std, parameters);\n",
    "\n",
    "    yield model.train(nIterations);\n",
    "\n",
    "    // Evaluate classifier performance on standardized test set\n",
    "    var predictionAndLabels = test_set_std.map((p, args) => [args.model.predict(p[1]), p[0]], {model: model});\n",
    "    var metrics = new BinaryClassificationMetrics(predictionAndLabels);\n",
    "\n",
    "    console.log('\\n# Receiver Operating characteristic (ROC)')\n",
    "    var roc = yield metrics.roc();\n",
    "    console.log('\\nThreshold\\tSpecificity(FPR)\\tSensitivity(TPR)')\n",
    "    for (var i in roc)\n",
    "        console.log(roc[i][0].toFixed(2) + '\\t' + roc[i][1][0].toFixed(2) + '\\t' + roc[i][1][1].toFixed(2));\n",
    "\n",
    "    // Ploting ROC curve as roc.png\n",
    "    var xy = {};\n",
    "    for (var i in roc)\n",
    "        xy[roc[i][1][0].toFixed(2)] = roc[i][1][1].toFixed(2)\n",
    "    xy['0.00'] = '0.00';\n",
    "    var data = {};\n",
    "    data['regParam: ' + parameters.regParam + ', stepSize: ' + parameters.stepSize] = xy;\n",
    "    data['Random'] = {0 :0, 1 : 1};\n",
    "    plot({\n",
    "        title: 'Logistic Regression ROC Curve', \n",
    "        data: data, \n",
    "        filename: 'roc.png'\n",
    "        //finish: function() {sc.end();}\n",
    "    });\n",
    "});"
   ]
  },
  {
   "cell_type": "markdown",
   "metadata": {},
   "source": [
    "![alt text](roc.png)"
   ]
  }
 ],
 "metadata": {
  "kernelspec": {
   "display_name": "Javascript (Node.js)",
   "language": "javascript",
   "name": "javascript"
  },
  "language_info": {
   "file_extension": ".js",
   "mimetype": "application/javascript",
   "name": "javascript",
   "version": "4.1.2"
  }
 },
 "nbformat": 4,
 "nbformat_minor": 0
}
