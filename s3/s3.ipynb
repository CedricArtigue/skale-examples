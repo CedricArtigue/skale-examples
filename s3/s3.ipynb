{
 "cells": [
  {
   "cell_type": "code",
   "execution_count": 1,
   "metadata": {
    "collapsed": false
   },
   "outputs": [
    {
     "name": "stdout",
     "output_type": "stream",
     "text": [
      "[ '.bin', 'aws-sdk', 'skale-engine' ]\n"
     ]
    },
    {
     "data": {
      "text/plain": [
       "undefined"
      ]
     },
     "execution_count": 1,
     "metadata": {},
     "output_type": "execute_result"
    }
   ],
   "source": [
    "console.log(require('fs').readdirSync('./node_modules'));"
   ]
  },
  {
   "cell_type": "markdown",
   "metadata": {},
   "source": [
    "This example uses skale-engine and the amazon s3 SDK.\n",
    "\n",
    "We will connect to an s3 bucket and process its data."
   ]
  },
  {
   "cell_type": "code",
   "execution_count": 16,
   "metadata": {
    "collapsed": false
   },
   "outputs": [
    {
     "data": {
      "text/plain": [
       "undefined"
      ]
     },
     "execution_count": 16,
     "metadata": {},
     "output_type": "execute_result"
    }
   ],
   "source": [
    "var sc = require('skale-engine').context();\n",
    "var AWS = require('aws-sdk');\n",
    "\n",
    "var s3 = new AWS.S3({signatureVersion: 'v4'});\n",
    "var params = {Bucket: 'skale-demo', Key: 'datasets/restaurants-ny.json'};\n",
    "\n",
    "var restaurants = sc.lineStream(s3.getObject(params).createReadStream()).persist();"
   ]
  },
  {
   "cell_type": "code",
   "execution_count": 19,
   "metadata": {
    "collapsed": false
   },
   "outputs": [
    {
     "data": {
      "text/plain": [
       "[ { address: \n",
       "     { building: '1007',\n",
       "       coord: [Object],\n",
       "       street: 'Morris Park Ave',\n",
       "       zipcode: '10462' },\n",
       "    borough: 'Bronx',\n",
       "    cuisine: 'Bakery',\n",
       "    grades: [ [Object], [Object], [Object], [Object], [Object] ],\n",
       "    name: 'Morris Park Bake Shop',\n",
       "    restaurant_id: '30075445' } ]"
      ]
     },
     "execution_count": 19,
     "metadata": {},
     "output_type": "execute_result"
    }
   ],
   "source": [
    "// await restaurants.map(line => JSON.parse(line)).first()\n",
    "$$async$$ = restaurants\n",
    "    .map(line => JSON.parse(line))\n",
    "    .first()\n",
    "    .then($$done$$);"
   ]
  },
  {
   "cell_type": "code",
   "execution_count": null,
   "metadata": {
    "collapsed": true
   },
   "outputs": [],
   "source": [
    "console.log('Hello')"
   ]
  }
 ],
 "metadata": {
  "kernelspec": {
   "display_name": "Javascript (Node.js)",
   "language": "javascript",
   "name": "javascript"
  },
  "language_info": {
   "file_extension": ".js",
   "mimetype": "application/javascript",
   "name": "javascript",
   "version": "4.1.2"
  }
 },
 "nbformat": 4,
 "nbformat_minor": 0
}
