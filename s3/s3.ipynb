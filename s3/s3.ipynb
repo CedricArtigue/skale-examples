{
 "cells": [
  {
   "cell_type": "markdown",
   "metadata": {},
   "source": [
    "# Processing a AWS S3 bucket\n",
    "\n",
    "This example requires skale-engine and the amazon s3 SDK"
   ]
  },
  {
   "cell_type": "code",
   "execution_count": 1,
   "metadata": {
    "collapsed": false
   },
   "outputs": [
    {
     "data": {
      "text/plain": [
       "undefined"
      ]
     },
     "execution_count": 1,
     "metadata": {},
     "output_type": "execute_result"
    }
   ],
   "source": [
    "var sc = require('skale-engine').context();\n",
    "var AWS = require('aws-sdk');"
   ]
  },
  {
   "cell_type": "markdown",
   "metadata": {},
   "source": [
    "Let's create a readable stream to our S3 bucket"
   ]
  },
  {
   "cell_type": "code",
   "execution_count": 4,
   "metadata": {
    "collapsed": false
   },
   "outputs": [
    {
     "data": {
      "text/plain": [
       "undefined"
      ]
     },
     "execution_count": 4,
     "metadata": {},
     "output_type": "execute_result"
    }
   ],
   "source": [
    "var s3 = new AWS.S3({signatureVersion: 'v4'});\n",
    "var bucket = s3.getObject({Bucket: 'skale-demo', Key: 'datasets/restaurants-ny.json'}).createReadStream();"
   ]
  },
  {
   "cell_type": "markdown",
   "metadata": {},
   "source": [
    "The bucket contains a list of restaurants located in New York. Let's:\n",
    "- Read the bucket line by line, one line being a stringified JSON\n",
    "- JSON parse each line\n",
    "- make the result persistent in memory"
   ]
  },
  {
   "cell_type": "code",
   "execution_count": 5,
   "metadata": {
    "collapsed": false
   },
   "outputs": [
    {
     "data": {
      "text/plain": [
       "undefined"
      ]
     },
     "execution_count": 5,
     "metadata": {},
     "output_type": "execute_result"
    }
   ],
   "source": [
    "var restaurants = sc.lineStream(bucket).map(line => JSON.parse(line)).persist();"
   ]
  },
  {
   "cell_type": "markdown",
   "metadata": {},
   "source": [
    "# What type of information do we have in our dataset ?\n",
    "\n",
    "Let's display the first restaurant of our dataset."
   ]
  },
  {
   "cell_type": "code",
   "execution_count": 14,
   "metadata": {
    "collapsed": false
   },
   "outputs": [
    {
     "data": {
      "text/plain": [
       "{ address: \n",
       "   { building: '1007',\n",
       "     coord: [ -73.856077, 40.848447 ],\n",
       "     street: 'Morris Park Ave',\n",
       "     zipcode: '10462' },\n",
       "  borough: 'Bronx',\n",
       "  cuisine: 'Bakery',\n",
       "  grades: \n",
       "   [ { date: [Object], grade: 'A', score: 2 },\n",
       "     { date: [Object], grade: 'A', score: 6 },\n",
       "     { date: [Object], grade: 'A', score: 10 },\n",
       "     { date: [Object], grade: 'A', score: 9 },\n",
       "     { date: [Object], grade: 'B', score: 14 } ],\n",
       "  name: 'Morris Park Bake Shop',\n",
       "  restaurant_id: '30075445' }"
      ]
     },
     "execution_count": 14,
     "metadata": {},
     "output_type": "execute_result"
    }
   ],
   "source": [
    "$$async$$ = restaurants.first().then(data => $$done$$(data[0]));"
   ]
  },
  {
   "cell_type": "markdown",
   "metadata": {},
   "source": [
    "As we can see, each entry of our dataset is a nested JSON object. \n",
    "\n",
    "Let's count the number of restaurants located in the Bronx."
   ]
  },
  {
   "cell_type": "code",
   "execution_count": 7,
   "metadata": {
    "collapsed": false
   },
   "outputs": [
    {
     "data": {
      "text/plain": [
       "2338"
      ]
     },
     "execution_count": 7,
     "metadata": {},
     "output_type": "execute_result"
    }
   ],
   "source": [
    "$$async$$ = restaurants.filter(restaurant => restaurant.borough == 'Bronx').count().then($$done$$);"
   ]
  },
  {
   "cell_type": "markdown",
   "metadata": {},
   "source": [
    "Lets' now display the list of distinct boroughs and the number of restaurants they count."
   ]
  },
  {
   "cell_type": "code",
   "execution_count": 16,
   "metadata": {
    "collapsed": false
   },
   "outputs": [
    {
     "data": {
      "text/plain": [
       "[ [ 'Brooklyn', 6086 ],\n",
       "  [ 'Manhattan', 10259 ],\n",
       "  [ 'Staten Island', 969 ],\n",
       "  [ 'Missing', 51 ],\n",
       "  [ 'Bronx', 2338 ],\n",
       "  [ 'Queens', 5656 ] ]"
      ]
     },
     "execution_count": 16,
     "metadata": {},
     "output_type": "execute_result"
    }
   ],
   "source": [
    "$$async$$ = restaurants.map(restaurant => restaurant.borough).countByValue().then($$done$$);"
   ]
  },
  {
   "cell_type": "markdown",
   "metadata": {},
   "source": [
    "# How many chinese restaurants in Brooklyn ?\n",
    "\n",
    "Let's first display the list of cuisine realated to chinese food."
   ]
  },
  {
   "cell_type": "code",
   "execution_count": 17,
   "metadata": {
    "collapsed": false
   },
   "outputs": [
    {
     "data": {
      "text/plain": [
       "[ 'Chinese', 'Chinese/Cuban', 'Chinese/Japanese' ]"
      ]
     },
     "execution_count": 17,
     "metadata": {},
     "output_type": "execute_result"
    }
   ],
   "source": [
    "$$async$$ = restaurants\n",
    "    .map(restaurant => restaurant.cuisine)\n",
    "    .filter(cuisine => cuisine.search(/chinese/i) != -1)\n",
    "    .distinct()\n",
    "    .collect()\n",
    "    .then($$done$$);"
   ]
  },
  {
   "cell_type": "markdown",
   "metadata": {},
   "source": [
    "We can see 'Chinese' is a type of cuisine, let's find out how many Chinese restaurants we have in Brooklyn."
   ]
  },
  {
   "cell_type": "code",
   "execution_count": 18,
   "metadata": {
    "collapsed": false
   },
   "outputs": [
    {
     "data": {
      "text/plain": [
       "763"
      ]
     },
     "execution_count": 18,
     "metadata": {},
     "output_type": "execute_result"
    }
   ],
   "source": [
    "$$async$$ = restaurants\n",
    "    .filter(restaurant => (restaurant.cuisine == 'Chinese') && (restaurant.borough == 'Brooklyn'))\n",
    "    .count().then($$done$$)"
   ]
  },
  {
   "cell_type": "markdown",
   "metadata": {},
   "source": [
    "Let's display the name and street address of the 10 first Chinese restaurants in Brooklyn"
   ]
  },
  {
   "cell_type": "code",
   "execution_count": 19,
   "metadata": {
    "collapsed": false
   },
   "outputs": [
    {
     "data": {
      "text/plain": [
       "[ [ 'May May Kitchen', 'Sutter Avenue' ],\n",
       "  [ 'Golden Pavillion', 'Rutland Road' ],\n",
       "  [ 'Lee\\'S Villa Chinese Restaurant', 'Lawrence Street' ],\n",
       "  [ 'Kum Kau Kitchen', 'Myrtle Avenue' ],\n",
       "  [ 'Szechuan Delight Restaurant', '7 Avenue' ],\n",
       "  [ 'Yen Yen Restaurant', 'Church Avenue' ],\n",
       "  [ 'Master Wok', 'Kings Plaza Shopping Ct' ],\n",
       "  [ 'Choy Le Chinese Restaurant', 'Avenue U' ],\n",
       "  [ 'New Ruan\\'S Restaurant', '86 Street' ],\n",
       "  [ 'Great Wall Restaurant', 'Fort Hamilton Parkway' ] ]"
      ]
     },
     "execution_count": 19,
     "metadata": {},
     "output_type": "execute_result"
    }
   ],
   "source": [
    "$$async$$ = restaurants\n",
    "    .filter(d => (d.cuisine == 'Chinese') && (d.borough == 'Brooklyn'))\n",
    "    .map(d => [d.name, d.address.street])\n",
    "    .take(10).then($$done$$);"
   ]
  },
  {
   "cell_type": "markdown",
   "metadata": {},
   "source": [
    "# What are the five most reviewed Chinese restaurants in Brooklyn ?"
   ]
  },
  {
   "cell_type": "code",
   "execution_count": 12,
   "metadata": {
    "collapsed": false
   },
   "outputs": [
    {
     "name": "stdout",
     "output_type": "stream",
     "text": [
      "Noodle Station, 8 Avenue :  9 reviews\n",
      "Lai Lai Gourmet, 8 Avenue :  9 reviews\n",
      "New Chung Mee Restaurant, Church Avenue :  8 reviews\n",
      "New Star Seafood Restaurant, Avenue U :  8 reviews\n",
      "Mr. Q'S Grill, 8 Avenue :  8 reviews\n"
     ]
    },
    {
     "data": {
      "text/plain": [
       "undefined"
      ]
     },
     "execution_count": 12,
     "metadata": {},
     "output_type": "execute_result"
    }
   ],
   "source": [
    "$$async$$ = restaurants\n",
    "    .filter(restaurant => (restaurant.cuisine == 'Chinese') && (restaurant.borough == 'Brooklyn'))\n",
    "    .map(restaurant => [restaurant.name, restaurant.address.street, restaurant.grades.length])\n",
    "    .sortBy(data => data[2], false)\n",
    "    .take(5).then(function(data) {\n",
    "        for (var i in data)\n",
    "            console.log(data[i][0] + ', ' + data[i][1], ': ', data[i][2] + ' reviews');\n",
    "        $$done$$();\n",
    "    });"
   ]
  }
 ],
 "metadata": {
  "kernelspec": {
   "display_name": "Javascript (Node.js)",
   "language": "javascript",
   "name": "javascript"
  },
  "language_info": {
   "file_extension": ".js",
   "mimetype": "application/javascript",
   "name": "javascript",
   "version": "4.1.2"
  }
 },
 "nbformat": 4,
 "nbformat_minor": 0
}
