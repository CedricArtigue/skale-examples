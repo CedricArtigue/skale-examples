{
 "cells": [
  {
   "cell_type": "code",
   "execution_count": 1,
   "metadata": {
    "collapsed": false
   },
   "outputs": [
    {
     "name": "stdout",
     "output_type": "stream",
     "text": [
      "Pi is roughly  3.142764\n"
     ]
    },
    {
     "data": {
      "text/plain": [
       "undefined"
      ]
     },
     "execution_count": 1,
     "metadata": {},
     "output_type": "execute_result"
    }
   ],
   "source": [
    "var sc = require('skale-engine').context();\n",
    "\n",
    "var NUM_SAMPLES = 1000000;\n",
    "\n",
    "function sample() {\n",
    "    var x = Math.random(), y = Math.random();\n",
    "    return ((x * x + y * y) < 1) ? 1 : 0;\n",
    "}\n",
    "\n",
    "$$async$$ = sc.range(0, NUM_SAMPLES)\n",
    "    .map(sample)\n",
    "    .reduce((a, b) => a + b, 0, function(err, count) {\n",
    "        console.log('Pi is roughly ', (4.0 * count / NUM_SAMPLES));\n",
    "        $$done$$();\n",
    "        sc.end();\n",
    "    })"
   ]
  },
  {
   "cell_type": "code",
   "execution_count": null,
   "metadata": {
    "collapsed": true
   },
   "outputs": [],
   "source": []
  }
 ],
 "metadata": {
  "kernelspec": {
   "display_name": "Javascript (Node.js)",
   "language": "javascript",
   "name": "javascript"
  },
  "language_info": {
   "file_extension": ".js",
   "mimetype": "application/javascript",
   "name": "javascript",
   "version": "4.1.2"
  }
 },
 "nbformat": 4,
 "nbformat_minor": 0
}
